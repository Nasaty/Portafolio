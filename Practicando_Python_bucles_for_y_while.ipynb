{
  "nbformat": 4,
  "nbformat_minor": 0,
  "metadata": {
    "colab": {
      "provenance": [],
      "authorship_tag": "ABX9TyPp4W2GchuTJkZSYn0Z0B1u",
      "include_colab_link": true
    },
    "kernelspec": {
      "name": "python3",
      "display_name": "Python 3"
    },
    "language_info": {
      "name": "python"
    }
  },
  "cells": [
    {
      "cell_type": "markdown",
      "metadata": {
        "id": "view-in-github",
        "colab_type": "text"
      },
      "source": [
        "<a href=\"https://colab.research.google.com/github/Nasaty/Portafolio/blob/main/Practicando_Python_bucles_for_y_while.ipynb\" target=\"_parent\"><img src=\"https://colab.research.google.com/assets/colab-badge.svg\" alt=\"Open In Colab\"/></a>"
      ]
    },
    {
      "cell_type": "markdown",
      "source": [
        "Ana está desarrollando un programa que necesita procesar una lista de 5 nombres de clientes para generar informes mensuales. Para ello, necesita escribir un programa que recorra la lista de nombres y muestre cada cliente.\n",
        "clientes = [\"Juan\", \"Maria\", \"Carlos\", \"Ana\", \"Beatriz\"]\n",
        "Ayuda a Ana a decidir entre usar un lazo for o while. Escribe el programa usando el lazo que creas más adecuado para esta tarea y explica por qué elegiste ese lazo."
      ],
      "metadata": {
        "id": "xizA5KmXKIHY"
      }
    },
    {
      "cell_type": "code",
      "execution_count": 1,
      "metadata": {
        "colab": {
          "base_uri": "https://localhost:8080/"
        },
        "id": "cj7eAkOv_Ww5",
        "outputId": "8cf3254c-6f38-452d-bf97-1cf18899e109"
      },
      "outputs": [
        {
          "output_type": "stream",
          "name": "stdout",
          "text": [
            "--- Lista de Clientes (Usando FOR) ---\n",
            "Cliente: Juan\n",
            "Cliente: Maria\n",
            "Cliente: Carlos\n",
            "Cliente: Ana\n",
            "Cliente: Beatriz\n"
          ]
        }
      ],
      "source": [
        "clientes = [\"Juan\", \"Maria\", \"Carlos\", \"Ana\", \"Beatriz\"]\n",
        "\n",
        "print(\"--- Lista de Clientes (Usando FOR) ---\")\n",
        "\n",
        "# El bucle 'for' recorre la lista directamente\n",
        "for cliente in clientes:\n",
        "    # 'cliente' toma el valor de cada elemento en cada iteración\n",
        "    print(f\"Cliente: {cliente}\")"
      ]
    },
    {
      "cell_type": "markdown",
      "source": [
        "André está probando una nueva función en el backend de Buscante que procesa datos en un bucle. Durante las pruebas, se dio cuenta de que el sistema dejó de responder y sospecha que el problema está en un bucle infinito."
      ],
      "metadata": {
        "id": "VXyKbsKaLIQV"
      }
    },
    {
      "cell_type": "code",
      "source": [
        "contador = 0\n",
        "while contador < 10:\n",
        "    print(\"Procesando datos...\")\n",
        "\n",
        "    # SOLUCIÓN: Incrementar el contador para garantizar que el bucle termine\n",
        "    contador = contador + 1\n",
        "    # Alternativamente, puedes usar la forma abreviada: contador += 1\n",
        "\n",
        "print(\"Procesamiento de datos finalizado.\")"
      ],
      "metadata": {
        "colab": {
          "base_uri": "https://localhost:8080/"
        },
        "id": "adeOPEqv_l9E",
        "outputId": "ac1524ee-113c-4069-ebff-60901103ae78"
      },
      "execution_count": 2,
      "outputs": [
        {
          "output_type": "stream",
          "name": "stdout",
          "text": [
            "Procesando datos...\n",
            "Procesando datos...\n",
            "Procesando datos...\n",
            "Procesando datos...\n",
            "Procesando datos...\n",
            "Procesando datos...\n",
            "Procesando datos...\n",
            "Procesando datos...\n",
            "Procesando datos...\n",
            "Procesando datos...\n",
            "Procesamiento de datos finalizado.\n"
          ]
        }
      ]
    },
    {
      "cell_type": "markdown",
      "source": [
        "Marcos está desarrollando un programa para mostrar un mensaje de bienvenida repetidamente en la consola, como parte de una campaña de marketing de su plataforma llamada Buscante. Quiere asegurarse de que el mensaje se muestre 5 veces.\n",
        "\n",
        "Ayuda a Marcos a escribir un programa que muestre el mensaje: \"¡Bienvenido a Buscante!\" el número exacto de veces que necesita."
      ],
      "metadata": {
        "id": "DITGZTdcLXje"
      }
    },
    {
      "cell_type": "code",
      "source": [
        "MENSAJE = \"¡Bienvenido a Buscante!\"\n",
        "NUMERO_DE_VECES = 5\n",
        "\n",
        "print(\"--- Campaña de Bienvenida de Buscante ---\")\n",
        "\n",
        "# Usamos 'for' con la función range(5), que genera los números 0, 1, 2, 3, 4 (un total de 5 iteraciones)\n",
        "for i in range(NUMERO_DE_VECES):\n",
        "    print(f\"{i + 1}. {MENSAJE}\")\n"
      ],
      "metadata": {
        "colab": {
          "base_uri": "https://localhost:8080/"
        },
        "id": "En0KcX2NAB4z",
        "outputId": "19fc437e-23de-471b-809f-9220fd346c70"
      },
      "execution_count": 5,
      "outputs": [
        {
          "output_type": "stream",
          "name": "stdout",
          "text": [
            "--- Campaña de Bienvenida de Buscante ---\n",
            "1. ¡Bienvenido a Buscante!\n",
            "2. ¡Bienvenido a Buscante!\n",
            "3. ¡Bienvenido a Buscante!\n",
            "4. ¡Bienvenido a Buscante!\n",
            "5. ¡Bienvenido a Buscante!\n"
          ]
        }
      ]
    },
    {
      "cell_type": "markdown",
      "source": [
        "Estás recibiendo una lista de valores que representan los productos de tu tienda virtual y te gustaría calcular la suma total de esos productos para entender el desempeño financiero semanal. valores = [10, 20, 30, 40, 50] Crea un programa para implementar la suma."
      ],
      "metadata": {
        "id": "6CS9xDp0LgtW"
      }
    },
    {
      "cell_type": "code",
      "source": [
        "valores = [10, 20, 30, 40, 50]\n",
        "suma_total = 0  # Inicializamos una variable para acumular la suma\n",
        "\n",
        "print(\"--- Cálculo del Desempeño Financiero Semanal ---\")\n",
        "\n",
        "# 1. Recorrer la lista usando un bucle 'for'\n",
        "for valor in valores:\n",
        "    # 2. Acumular: Sumar el valor actual a la suma total en cada iteración\n",
        "    suma_total = suma_total + valor\n",
        "    # Forma abreviada y preferida: suma_total += valor\n",
        "\n",
        "    print(f\"Acumulando... valor actual: {valor}, Suma parcial: {suma_total}\")\n",
        "\n",
        "# 3. Mostrar el resultado final\n",
        "print(f\"\\nEl desempeño financiero semanal (suma total de productos) es: ${suma_total}\")\n"
      ],
      "metadata": {
        "colab": {
          "base_uri": "https://localhost:8080/"
        },
        "id": "XkhAKvEzADeD",
        "outputId": "16da07a0-335b-47d1-a896-26109ae88d85"
      },
      "execution_count": 6,
      "outputs": [
        {
          "output_type": "stream",
          "name": "stdout",
          "text": [
            "--- Cálculo del Desempeño Financiero Semanal ---\n",
            "Acumulando... valor actual: 10, Suma parcial: 10\n",
            "Acumulando... valor actual: 20, Suma parcial: 30\n",
            "Acumulando... valor actual: 30, Suma parcial: 60\n",
            "Acumulando... valor actual: 40, Suma parcial: 100\n",
            "Acumulando... valor actual: 50, Suma parcial: 150\n",
            "\n",
            "El desempeño financiero semanal (suma total de productos) es: $150\n"
          ]
        }
      ]
    },
    {
      "cell_type": "markdown",
      "source": [
        "Ana está desarrollando su portafolio para exhibir los proyectos de Python que ha completado. Ella organizó una lista con el nombre de cada proyecto, pero se dio cuenta de que algunos elementos pueden estar ausentes, apareciendo como None: Crea un programa que ayude a Ana a recorrer la lista de proyectos y muestre los nombres de los proyectos válidos. Si encuentra un elemento None, el programa debe mostrar el mensaje: \"Proyecto ausente\"."
      ],
      "metadata": {
        "id": "bNBkWJdBLvV0"
      }
    },
    {
      "cell_type": "code",
      "source": [
        "proyectos = [\"sitio web\", \"juego\", \"análisis de datos\", None, \"aplicativo móvil\"]\n",
        "\n",
        "print(\"--- Portafolio de Proyectos de Ana ---\")\n",
        "\n",
        "# Recorremos la lista de proyectos\n",
        "for proyecto in proyectos:\n",
        "\n",
        "    # Verificamos si el proyecto NO es None (es decir, es válido)\n",
        "    if proyecto is not None:\n",
        "        # Si es válido, mostramos el nombre del proyecto\n",
        "        print(f\"✅ Proyecto válido: {proyecto.capitalize()}\")\n",
        "    else:\n",
        "        # Si es None, mostramos el mensaje de proyecto ausente\n",
        "        print(\"⚠️ Proyecto ausente\")\n",
        "\n",
        "print(\"\\n¡Portafolio revisado con éxito!\")"
      ],
      "metadata": {
        "colab": {
          "base_uri": "https://localhost:8080/"
        },
        "id": "-GVrx6I3C5gV",
        "outputId": "817aa06a-3240-41ce-a70d-5172343365f5"
      },
      "execution_count": 7,
      "outputs": [
        {
          "output_type": "stream",
          "name": "stdout",
          "text": [
            "--- Portafolio de Proyectos de Ana ---\n",
            "✅ Proyecto válido: Sitio web\n",
            "✅ Proyecto válido: Juego\n",
            "✅ Proyecto válido: Análisis de datos\n",
            "⚠️ Proyecto ausente\n",
            "✅ Proyecto válido: Aplicativo móvil\n",
            "\n",
            "¡Portafolio revisado con éxito!\n"
          ]
        }
      ]
    },
    {
      "cell_type": "markdown",
      "source": [
        "José está desarrollando una funcionalidad en el sistema de Buscante para interrumpir la búsqueda tan pronto como se encuentre un libro específico. La lista de libros ya registrados en el sistema es la siguiente:libros = [\"1984\", \"Cien años de soledad\", \"El Principito\", \"El Hobbit\", \"Orgullo y Prejuicio\"]Ayuda a José a crear un programa que recorra la lista y muestre el mensaje \"Libro encontrado: <nombre del libro>\" tan pronto como se encuentre el libro \"El Hobbit\". Después de encontrar el libro, el programa debe detener inmediatamente la búsqueda, sin verificar los libros restantes."
      ],
      "metadata": {
        "id": "afkppcmRL5ZR"
      }
    },
    {
      "cell_type": "code",
      "source": [
        "libros = [\"1984\", \"Cien años de soledad\", \"El Principito\", \"El Hobbit\", \"Orgullo y Prejuicio\"]\n",
        "LIBRO_BUSCADO = \"El Hobbit\"\n",
        "\n",
        "print(\"--- Búsqueda Rápida de Libros ---\")\n",
        "\n",
        "# 1. Recorremos la lista de libros\n",
        "for libro in libros:\n",
        "    print(f\"Buscando... revisando: {libro}\")\n",
        "\n",
        "    # 2. Verificamos si el libro actual es el que estamos buscando\n",
        "    if libro == LIBRO_BUSCADO:\n",
        "        # 3. Si se encuentra, mostramos el mensaje y usamos 'break'\n",
        "        print(f\"\\n✅ Libro encontrado: {libro}\")\n",
        "        break  # Detiene inmediatamente el bucle for\n",
        "\n",
        "# El código continúa aquí después de que el bucle se detiene (o termina de iterar)\n",
        "print(\"\\nBúsqueda finalizada.\")"
      ],
      "metadata": {
        "colab": {
          "base_uri": "https://localhost:8080/"
        },
        "id": "XBO0wZlcD3lM",
        "outputId": "59c7ac2b-e674-49ff-e83f-844fbefd8426"
      },
      "execution_count": 10,
      "outputs": [
        {
          "output_type": "stream",
          "name": "stdout",
          "text": [
            "--- Búsqueda Rápida de Libros ---\n",
            "Buscando... revisando: 1984\n",
            "Buscando... revisando: Cien años de soledad\n",
            "Buscando... revisando: El Principito\n",
            "Buscando... revisando: El Hobbit\n",
            "\n",
            "✅ Libro encontrado: El Hobbit\n",
            "\n",
            "Búsqueda finalizada.\n"
          ]
        }
      ]
    },
    {
      "cell_type": "markdown",
      "source": [
        "Estás desarrollando un sistema de control de inventario para Buscante. Uno de los requisitos es verificar la cantidad de ejemplares de un libro en inventario y continuar vendiendo hasta que el inventario se agote. Siempre que se realiza una venta, el sistema debe informar al usuario y actualizar la cantidad disponible.\n",
        "\n",
        "Crea un programa que simule las ventas de un libro con el inventario inicial de 5 ejemplares. El programa debe mostrar el mensaje \"¡Venta realizada! Inventario restante: <cantidad>\" con cada venta y, al final, mostrar el mensaje \"Inventario agotado\"."
      ],
      "metadata": {
        "id": "uM7QKm2CMCcF"
      }
    },
    {
      "cell_type": "code",
      "source": [
        "# EJERCICIO DE CONTROL DE INVENTARIO CON WHILE\n",
        "\n",
        "def simular_ventas_inventario():\n",
        "    \"\"\"\n",
        "    Simula la venta de un libro hasta que el inventario se agote,\n",
        "    utilizando un bucle 'while'.\n",
        "    \"\"\"\n",
        "    inventario = 5 # Inventario inicial\n",
        "\n",
        "    print(\"--- 📚 Inicio del Control de Inventario ---\")\n",
        "\n",
        "    # El bucle se ejecuta MIENTRAS el inventario sea mayor que 0\n",
        "    while inventario > 0:\n",
        "\n",
        "        # 1. Realizar la Venta (Simulación)\n",
        "        # Se decrementa el inventario en 1 unidad\n",
        "        inventario -= 1\n",
        "\n",
        "        # 2. Informar al usuario\n",
        "        # Se muestra el inventario que queda *después* de la venta\n",
        "        print(f\"¡Venta realizada! Inventario restante: {inventario}\")\n",
        "\n",
        "    # 3. Mensaje final (se ejecuta cuando la condición 'inventario > 0' es False)\n",
        "    print(\"Inventario agotado\")\n",
        "\n",
        "# Llamar a la función para ejecutar el programa\n",
        "simular_ventas_inventario()"
      ],
      "metadata": {
        "colab": {
          "base_uri": "https://localhost:8080/"
        },
        "id": "GHVbRyYWElbF",
        "outputId": "45a5daf2-f50f-4a1f-8572-c737d23d61cd"
      },
      "execution_count": 11,
      "outputs": [
        {
          "output_type": "stream",
          "name": "stdout",
          "text": [
            "--- 📚 Inicio del Control de Inventario ---\n",
            "¡Venta realizada! Inventario restante: 4\n",
            "¡Venta realizada! Inventario restante: 3\n",
            "¡Venta realizada! Inventario restante: 2\n",
            "¡Venta realizada! Inventario restante: 1\n",
            "¡Venta realizada! Inventario restante: 0\n",
            "Inventario agotado\n"
          ]
        }
      ]
    },
    {
      "cell_type": "markdown",
      "source": [
        "Aline está implementando una funcionalidad que muestra mensajes personalizados para los clientes durante una promoción especial de su nueva librería. El sistema debe mostrar un mensaje de cuenta regresiva personalizado para cada número de 10 a 1, y al final mostrar el mensaje: \"¡Aprovecha la promoción ahora!\".\n",
        "\n",
        "Crea un programa que utilice un bucle for para mostrar los siguientes mensajes:\n",
        "\n",
        "Para números pares, muestra: \"Faltan solo <número> segundos - ¡No pierdas esta oportunidad!\".\n",
        "Para números impares, muestra: \"La cuenta continúa: <número> segundos restantes.\".\n",
        "Al final de la cuenta, muestra el mensaje: \"¡Aprovecha la promoción ahora!\"."
      ],
      "metadata": {
        "id": "joM8MAc9MM3m"
      }
    },
    {
      "cell_type": "code",
      "source": [
        "print(\"--- ⏳ Cuenta Regresiva de Promoción ---\")\n",
        "\n",
        "# Usamos range(10, 0, -1) para generar los números en cuenta regresiva: 10, 9, ..., 1.\n",
        "for numero in range(10, 0, -1):\n",
        "\n",
        "    # Verificamos si el número es par usando el operador módulo (%)\n",
        "    if numero % 2 == 0:\n",
        "        # Número PAR: El residuo de la división por 2 es 0\n",
        "        print(f\"Faltan solo {numero} segundos - ¡No pierdas esta oportunidad!\")\n",
        "    else:\n",
        "        # Número IMPAR: El residuo de la división por 2 NO es 0\n",
        "        print(f\"La cuenta continúa: {numero} segundos restantes.\")\n",
        "\n",
        "# Mensaje final después de que el bucle for termina (llega a 0)\n",
        "print(\"\\n¡Aprovecha la promoción ahora!\")"
      ],
      "metadata": {
        "colab": {
          "base_uri": "https://localhost:8080/"
        },
        "id": "Kf1mMrc9F0Xc",
        "outputId": "134e3fdd-23a3-46cb-a868-8713e4c70b04"
      },
      "execution_count": 12,
      "outputs": [
        {
          "output_type": "stream",
          "name": "stdout",
          "text": [
            "--- ⏳ Cuenta Regresiva de Promoción ---\n",
            "Faltan solo 10 segundos - ¡No pierdas esta oportunidad!\n",
            "La cuenta continúa: 9 segundos restantes.\n",
            "Faltan solo 8 segundos - ¡No pierdas esta oportunidad!\n",
            "La cuenta continúa: 7 segundos restantes.\n",
            "Faltan solo 6 segundos - ¡No pierdas esta oportunidad!\n",
            "La cuenta continúa: 5 segundos restantes.\n",
            "Faltan solo 4 segundos - ¡No pierdas esta oportunidad!\n",
            "La cuenta continúa: 3 segundos restantes.\n",
            "Faltan solo 2 segundos - ¡No pierdas esta oportunidad!\n",
            "La cuenta continúa: 1 segundos restantes.\n",
            "\n",
            "¡Aprovecha la promoción ahora!\n"
          ]
        }
      ]
    },
    {
      "cell_type": "markdown",
      "source": [
        "Ana está implementando un sistema de filtrado de libros en Buscante. La funcionalidad debe recorrer una lista de libros y mostrar el nombre de cada libro disponible en stock. Sin embargo, si el libro está agotado, debe ser ignorado durante la iteración.  \n",
        "Crea un programa que ayude a Ana a mostrar solamente los libros que tienen stock disponible, en el formato: \"Libro disponible: <nombre del libro>\"."
      ],
      "metadata": {
        "id": "Ni7vVhmiMSNH"
      }
    },
    {
      "cell_type": "code",
      "source": [
        "libros = [\n",
        "    {\"nombre\": \"1984\", \"stock\": 5},\n",
        "    {\"nombre\": \"Dom Casmurro\", \"stock\": 0},\n",
        "    {\"nombre\": \"El Principito\", \"stock\": 3},\n",
        "    {\"nombre\": \"El Hobbit\", \"stock\": 0},\n",
        "    {\"nombre\": \"Orgullo y Prejuicio\", \"stock\": 2}\n",
        "]\n",
        "\n",
        "print(\"--- 🛒 Libros Disponibles en Stock ---\")\n",
        "\n",
        "# 1. Recorremos la lista de diccionarios (cada diccionario es un libro)\n",
        "for libro in libros:\n",
        "\n",
        "    # 2. Verificamos la condición de exclusión (stock agotado)\n",
        "    if libro[\"stock\"] == 0:\n",
        "        # Si el stock es 0, usamos 'continue' para saltar al siguiente libro\n",
        "        print(f\"🚫 Libro agotado, omitiendo: {libro['nombre']}\")\n",
        "        continue # El bucle salta inmediatamente a la siguiente iteración\n",
        "\n",
        "    # 3. Si llegamos aquí, el stock es > 0, por lo que mostramos el libro\n",
        "    print(f\"✅ Libro disponible: {libro['nombre']}\")\n",
        "\n",
        "print(\"\\nFiltrado de inventario completado.\")"
      ],
      "metadata": {
        "colab": {
          "base_uri": "https://localhost:8080/"
        },
        "id": "_1RppVXhGPEt",
        "outputId": "38d683ea-69ec-4fc2-b3fb-5d96cffe5a27"
      },
      "execution_count": 13,
      "outputs": [
        {
          "output_type": "stream",
          "name": "stdout",
          "text": [
            "--- 🛒 Libros Disponibles en Stock ---\n",
            "✅ Libro disponible: 1984\n",
            "🚫 Libro agotado, omitiendo: Dom Casmurro\n",
            "✅ Libro disponible: El Principito\n",
            "🚫 Libro agotado, omitiendo: El Hobbit\n",
            "✅ Libro disponible: Orgullo y Prejuicio\n",
            "\n",
            "Filtrado de inventario completado.\n"
          ]
        }
      ]
    },
    {
      "cell_type": "markdown",
      "source": [
        "João está desarrollando un sistema de registro para un sitio de lectura. Necesita asegurarse de que los usuarios ingresen un nombre de usuario y una contraseña válidos. Las reglas son las siguientes:\n",
        "\n",
        "El nombre de usuario debe tener al menos 5 caracteres.\n",
        "La contraseña debe tener al menos 8 caracteres.\n",
        "João quiere que el sistema siga solicitando la información hasta que ambas condiciones se cumplan. Cuando el usuario ingresa datos válidos, el programa debe mostrar el mensaje: \"¡Registro realizado con éxito!\".\n",
        "\n",
        "Crea un programa que implemente esta lógica usando un bucle while."
      ],
      "metadata": {
        "id": "SsyKiJfwMew7"
      }
    },
    {
      "cell_type": "code",
      "source": [
        "# EJERCICIO DE REGISTRO CON VALIDACIÓN (BUCLE WHILE)\n",
        "\n",
        "def realizar_registro():\n",
        "    \"\"\"\n",
        "    Solicita nombre de usuario y contraseña hasta que ambos cumplan\n",
        "    los requisitos mínimos de longitud.\n",
        "    \"\"\"\n",
        "    MIN_USUARIO = 5\n",
        "    MIN_CONTRASENA = 8\n",
        "    registro_valido = False # Bandera para controlar la salida del bucle\n",
        "\n",
        "    print(\"--- 📝 Sistema de Registro de Usuarios ---\")\n",
        "\n",
        "    # El bucle se ejecutará MIENTRAS la bandera sea Falsa (registro_valido == False)\n",
        "    while not registro_valido:\n",
        "\n",
        "        # 1. Solicitar la información\n",
        "        nombre_usuario = input(\"Digite su nombre de usuario: \")\n",
        "        contrasena = input(\"Digite su contraseña: \")\n",
        "\n",
        "        # 2. Validar las condiciones\n",
        "\n",
        "        # Verificamos si el nombre de usuario es VÁLIDO\n",
        "        usuario_valido = len(nombre_usuario) >= MIN_USUARIO\n",
        "\n",
        "        # Verificamos si la contraseña es VÁLIDA\n",
        "        contrasena_valida = len(contrasena) >= MIN_CONTRASENA\n",
        "\n",
        "        # 3. Lógica de Control (AND)\n",
        "\n",
        "        # Si AMBAS son verdaderas, el registro es exitoso y salimos del bucle\n",
        "        if usuario_valido and contrasena_valida:\n",
        "            registro_valido = True\n",
        "\n",
        "        # 4. Mostrar mensajes de error (si el registro no fue exitoso)\n",
        "        else:\n",
        "            if not usuario_valido:\n",
        "                print(f\"El nombre de usuario debe tener al menos {MIN_USUARIO} caracteres.\")\n",
        "\n",
        "            if not contrasena_valida:\n",
        "                print(f\"La contraseña debe tener al menos {MIN_CONTRASENA} caracteres.\")\n",
        "\n",
        "            print(\"--- Intente nuevamente ---\")\n",
        "\n",
        "    # 5. Mensaje de éxito (solo se ejecuta cuando registro_valido es True)\n",
        "    print(\"\\n¡Registro realizado con éxito!\")\n",
        "\n",
        "# Llamar a la función para ejecutar el programa\n",
        "realizar_registro()"
      ],
      "metadata": {
        "colab": {
          "base_uri": "https://localhost:8080/"
        },
        "id": "pAUJNlyRI0Qd",
        "outputId": "d6a3c9f6-8ea7-4a0a-f27d-b8a06001dd78"
      },
      "execution_count": 14,
      "outputs": [
        {
          "output_type": "stream",
          "name": "stdout",
          "text": [
            "--- 📝 Sistema de Registro de Usuarios ---\n",
            "Digite su nombre de usuario: User\n",
            "Digite su contraseña: 123\n",
            "El nombre de usuario debe tener al menos 5 caracteres.\n",
            "La contraseña debe tener al menos 8 caracteres.\n",
            "--- Intente nuevamente ---\n",
            "Digite su nombre de usuario: user23\n",
            "Digite su contraseña: 12345678\n",
            "\n",
            "¡Registro realizado con éxito!\n"
          ]
        }
      ]
    }
  ]
}