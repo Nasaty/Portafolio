{
  "nbformat": 4,
  "nbformat_minor": 0,
  "metadata": {
    "colab": {
      "provenance": [],
      "authorship_tag": "ABX9TyNVIstB5z3LmT/r66VUK4Qs",
      "include_colab_link": true
    },
    "kernelspec": {
      "name": "python3",
      "display_name": "Python 3"
    },
    "language_info": {
      "name": "python"
    }
  },
  "cells": [
    {
      "cell_type": "markdown",
      "metadata": {
        "id": "view-in-github",
        "colab_type": "text"
      },
      "source": [
        "<a href=\"https://colab.research.google.com/github/Nasaty/Portafolio/blob/main/Practicando_Python_condicionales_if%2C_elif_y_else.ipynb\" target=\"_parent\"><img src=\"https://colab.research.google.com/assets/colab-badge.svg\" alt=\"Open In Colab\"/></a>"
      ]
    },
    {
      "cell_type": "code",
      "execution_count": 1,
      "metadata": {
        "colab": {
          "base_uri": "https://localhost:8080/"
        },
        "id": "5o67OAkwYm06",
        "outputId": "5dc0a14e-0b55-4397-eb61-cf63d09dddf9"
      },
      "outputs": [
        {
          "output_type": "stream",
          "name": "stdout",
          "text": [
            "--- 🛒 Inicio del Programa de Comparación de Ventas ---\n",
            "Ingrese la cantidad de ventas de manzanas 🍎: 3\n",
            "Ingrese la cantidad de ventas de plátanos 🍌: 5\n",
            "\n",
            "✅ Resultado: ¡Los plátanos 🍌 vendieron más!\n",
            "Detalles: Plátanos (5) > Manzanas (3)\n"
          ]
        }
      ],
      "source": [
        "# EJERCICIO: Comparación de Ventas de Bruno (Manzanas vs. Plátanos)\n",
        "\n",
        "def comparar_ventas():\n",
        "    \"\"\"\n",
        "    Solicita las ventas de manzanas y plátanos,\n",
        "    y muestra qué producto vendió más, o si hubo un empate.\n",
        "    \"\"\"\n",
        "    print(\"--- 🛒 Inicio del Programa de Comparación de Ventas ---\")\n",
        "\n",
        "    # 1. Solicitar la cantidad de ventas de cada producto\n",
        "    try:\n",
        "        # Pide las ventas de manzanas\n",
        "        ventas_manzanas = int(input(\"Ingrese la cantidad de ventas de manzanas 🍎: \"))\n",
        "        # Pide las ventas de plátanos\n",
        "        ventas_platanos = int(input(\"Ingrese la cantidad de ventas de plátanos 🍌: \"))\n",
        "    except ValueError:\n",
        "        # Manejo de error\n",
        "        print(\"\\n⚠️ Error: Por favor, ingrese un número entero válido para las ventas.\")\n",
        "        return # Termina la función si hay un error de entrada\n",
        "\n",
        "    # 2. Lógica de comparación con if-elif-else\n",
        "    if ventas_manzanas > ventas_platanos:\n",
        "        # Manzanas vendió más\n",
        "        print(f\"\\n✅ Resultado: ¡Las manzanas 🍎 vendieron más!\")\n",
        "        print(f\"Detalles: Manzanas ({ventas_manzanas}) > Plátanos ({ventas_platanos})\")\n",
        "    elif ventas_platanos > ventas_manzanas:\n",
        "        # Plátanos vendió más\n",
        "        print(f\"\\n✅ Resultado: ¡Los plátanos 🍌 vendieron más!\")\n",
        "        print(f\"Detalles: Plátanos ({ventas_platanos}) > Manzanas ({ventas_manzanas})\")\n",
        "    else:\n",
        "        # Hubo un empate\n",
        "        print(f\"\\n✅ Resultado: ¡Hubo un empate 🤝 en las ventas!\")\n",
        "        print(f\"Detalles: Manzanas ({ventas_manzanas}) = Plátanos ({ventas_platanos})\")\n",
        "\n",
        "# Llamar a la función para ejecutar el programa\n",
        "comparar_ventas()"
      ]
    },
    {
      "cell_type": "code",
      "source": [
        "# EJERCICIO 2: Alerta de Temperatura de Sala de Servidores\n",
        "TEMPERATURA_MAXIMA = 25\n",
        "\n",
        "def verificar_temperatura():\n",
        "    \"\"\"\n",
        "    Solicita la temperatura actual y emite una alerta si supera los 25°C.\n",
        "    \"\"\"\n",
        "    print(\"--- 🌡️ Verificación de Temperatura de Servidores ---\")\n",
        "\n",
        "    # 1. Solicitar la temperatura actual\n",
        "    try:\n",
        "        # Pide la temperatura y la convierte a un número de punto flotante (float)\n",
        "        temp_actual = float(input(f\"Ingrese la temperatura actual de la sala (en °C): \"))\n",
        "    except ValueError:\n",
        "        # Manejo de error si el usuario no ingresa un número\n",
        "        print(\"\\n⚠️ Error: Por favor, ingrese un valor numérico válido para la temperatura.\")\n",
        "        return # Termina la función\n",
        "\n",
        "    # 2. Lógica de Alerta (Condicional 'if' simple)\n",
        "    if temp_actual > TEMPERATURA_MAXIMA:\n",
        "        # La condición se cumple: la temperatura supera el límite\n",
        "        print(\"\\n🚨 ¡ALERTA CRÍTICA!\")\n",
        "        print(f\"Temperatura actual: {temp_actual}°C\")\n",
        "        print(f\"El límite de {TEMPERATURA_MAXIMA}°C ha sido excedido. ¡Actúe de inmediato!\")\n",
        "    else:\n",
        "        # La condición NO se cumple: la temperatura está bajo o en el límite\n",
        "        print(\"\\n✅ Estado OK.\")\n",
        "        print(f\"Temperatura actual: {temp_actual}°C\")\n",
        "        print(f\"La temperatura se mantiene por debajo del límite de {TEMPERATURA_MAXIMA}°C.\")\n",
        "\n",
        "# Llamar a la función para ejecutar el programa\n",
        "verificar_temperatura()"
      ],
      "metadata": {
        "colab": {
          "base_uri": "https://localhost:8080/"
        },
        "id": "jDDV_UdKZLBb",
        "outputId": "32c1dabe-1aa0-4c30-dfc3-e9f81f2b69d6"
      },
      "execution_count": 2,
      "outputs": [
        {
          "output_type": "stream",
          "name": "stdout",
          "text": [
            "--- 🌡️ Verificación de Temperatura de Servidores ---\n",
            "Ingrese la temperatura actual de la sala (en °C): 28\n",
            "\n",
            "🚨 ¡ALERTA CRÍTICA!\n",
            "Temperatura actual: 28.0°C\n",
            "El límite de 25°C ha sido excedido. ¡Actúe de inmediato!\n"
          ]
        }
      ]
    },
    {
      "cell_type": "code",
      "source": [
        "# EJERCICIO 3: Cálculo de Tiempo Total del Proyecto (Validación de Datos)\n",
        "\n",
        "def calcular_tiempo_proyecto():\n",
        "    \"\"\"\n",
        "    Solicita los días de tres actividades y calcula el total,\n",
        "    solo si todos los valores son no negativos.\n",
        "    \"\"\"\n",
        "    print(\"--- ⏱️ Cálculo de Tiempo del Proyecto ---\")\n",
        "\n",
        "    # 1. Solicitar la duración de cada actividad\n",
        "    try:\n",
        "        dias_A = int(input(\"Días para la Actividad A: \"))\n",
        "        dias_B = int(input(\"Días para la Actividad B: \"))\n",
        "        dias_C = int(input(\"Días para la Actividad C: \"))\n",
        "    except ValueError:\n",
        "        # Manejo de error si el usuario no ingresa un número\n",
        "        print(\"\\n❌ ERROR: Por favor, ingrese solo números enteros para los días.\")\n",
        "        return # Termina la función\n",
        "\n",
        "    # 2. Lógica de Validación (Usando el operador OR)\n",
        "    # Se verifica si CUALQUIERA de las entradas es menor que cero (negativa)\n",
        "    if dias_A < 0 or dias_B < 0 or dias_C < 0:\n",
        "        # Si la condición es TRUE (al menos un día es negativo)\n",
        "        print(\"\\n❌ ERROR: Valores de entrada inválidos.\")\n",
        "        print(\"La duración de las actividades no puede ser negativa. El cálculo ha sido cancelado.\")\n",
        "    else:\n",
        "        # Si la condición es FALSE (todos los días son cero o positivos)\n",
        "        # 3. Cálculo y Muestra del Resultado\n",
        "        tiempo_total = dias_A + dias_B + dias_C\n",
        "        print(\"\\n✅ Cálculo Exitoso.\")\n",
        "        print(f\"Actividad A: {dias_A} días\")\n",
        "        print(f\"Actividad B: {dias_B} días\")\n",
        "        print(f\"Actividad C: {dias_C} días\")\n",
        "        print(f\"\\n⏳ El tiempo total requerido para el proyecto es de: {tiempo_total} días.\")\n",
        "\n",
        "# Llamar a la función para ejecutar el programa\n",
        "calcular_tiempo_proyecto()"
      ],
      "metadata": {
        "colab": {
          "base_uri": "https://localhost:8080/"
        },
        "id": "Po6N18kuZSAC",
        "outputId": "6bb345d7-3bea-4143-c755-58c511e6c6c8"
      },
      "execution_count": 3,
      "outputs": [
        {
          "output_type": "stream",
          "name": "stdout",
          "text": [
            "--- ⏱️ Cálculo de Tiempo del Proyecto ---\n",
            "Días para la Actividad A: 3\n",
            "Días para la Actividad B: 6\n",
            "Días para la Actividad C: 7\n",
            "\n",
            "✅ Cálculo Exitoso.\n",
            "Actividad A: 3 días\n",
            "Actividad B: 6 días\n",
            "Actividad C: 7 días\n",
            "\n",
            "⏳ El tiempo total requerido para el proyecto es de: 16 días.\n"
          ]
        }
      ]
    },
    {
      "cell_type": "code",
      "source": [
        "# EJERCICIO 3: Cálculo de Tiempo Total del Proyecto (Validación de Datos)\n",
        "\n",
        "def calcular_tiempo_proyecto():\n",
        "    \"\"\"\n",
        "    Solicita los días de tres actividades y calcula el total,\n",
        "    solo si todos los valores son no negativos.\n",
        "    \"\"\"\n",
        "    print(\"--- ⏱️ Cálculo de Tiempo del Proyecto de Camila ---\")\n",
        "\n",
        "    # 1. Solicitar la duración de cada actividad\n",
        "    try:\n",
        "        dias_A = int(input(\"Días para la Actividad A: \"))\n",
        "        dias_B = int(input(\"Días para la Actividad B: \"))\n",
        "        dias_C = int(input(\"Días para la Actividad C: \"))\n",
        "    except ValueError:\n",
        "        # Manejo de error si el usuario no ingresa un número\n",
        "        print(\"\\n❌ ERROR: Por favor, ingrese solo números enteros para los días.\")\n",
        "        return # Termina la función\n",
        "\n",
        "    # 2. Lógica de Validación (Usando el operador OR)\n",
        "    # Si CUALQUIERA de las entradas es menor que cero (negativa)\n",
        "    if dias_A < 0 or dias_B < 0 or dias_C < 0:\n",
        "        # La condición es TRUE (hay un error)\n",
        "        print(\"\\n❌ ERROR: Valores de entrada inválidos.\")\n",
        "        print(\"La duración de las actividades no puede ser negativa. El cálculo ha sido cancelado.\")\n",
        "    else:\n",
        "        # La condición es FALSE (no hay errores, todos son >= 0)\n",
        "        # 3. Cálculo y Muestra del Resultado\n",
        "        tiempo_total = dias_A + dias_B + dias_C\n",
        "        print(\"\\n✅ Cálculo Exitoso.\")\n",
        "        print(f\"Actividad A: {dias_A} días\")\n",
        "        print(f\"Actividad B: {dias_B} días\")\n",
        "        print(f\"Actividad C: {dias_C} días\")\n",
        "        print(f\"\\n⏳ El tiempo total requerido para el proyecto es de: {tiempo_total} días.\")\n",
        "\n",
        "# Llamar a la función para ejecutar el programa\n",
        "calcular_tiempo_proyecto()"
      ],
      "metadata": {
        "colab": {
          "base_uri": "https://localhost:8080/"
        },
        "id": "H6r8NxjJZlE7",
        "outputId": "5edb0d96-ff5c-4248-c8ef-ad56521a2853"
      },
      "execution_count": 4,
      "outputs": [
        {
          "output_type": "stream",
          "name": "stdout",
          "text": [
            "--- ⏱️ Cálculo de Tiempo del Proyecto de Camila ---\n",
            "Días para la Actividad A: 10\n",
            "Días para la Actividad B: 13\n",
            "Días para la Actividad C: 5\n",
            "\n",
            "✅ Cálculo Exitoso.\n",
            "Actividad A: 10 días\n",
            "Actividad B: 13 días\n",
            "Actividad C: 5 días\n",
            "\n",
            "⏳ El tiempo total requerido para el proyecto es de: 28 días.\n"
          ]
        }
      ]
    },
    {
      "cell_type": "code",
      "metadata": {
        "colab": {
          "base_uri": "https://localhost:8080/"
        },
        "id": "13d191de",
        "outputId": "c661ff72-575a-46b6-ebac-aad136e24d32"
      },
      "source": [
        "# EJERCICIO 4: Cálculo de IMC y Recomendaciones\n",
        "\n",
        "def calcular_imc():\n",
        "    \"\"\"\n",
        "    Solicita peso y altura, calcula el IMC y da recomendaciones básicas.\n",
        "    \"\"\"\n",
        "    print(\"--- 🧍 Cálculo de Índice de Masa Corporal (IMC) ---\")\n",
        "\n",
        "    # 1. Solicitar peso y altura\n",
        "    try:\n",
        "        peso = float(input(\"Ingrese su peso en kg: \"))\n",
        "        altura = float(input(\"Ingrese su altura en metros: \"))\n",
        "    except ValueError:\n",
        "        print(\"\\n❌ ERROR: Por favor, ingrese valores numéricos válidos para peso y altura.\")\n",
        "        return\n",
        "\n",
        "    # Validar que altura no sea cero o negativo para evitar división por cero\n",
        "    if altura <= 0:\n",
        "        print(\"\\n❌ ERROR: La altura debe ser un valor positivo.\")\n",
        "        return\n",
        "\n",
        "    # 2. Calcular el IMC\n",
        "    imc = peso / (altura ** 2)\n",
        "\n",
        "    # 3. Mostrar el IMC y la recomendación\n",
        "    print(f\"\\n✅ Cálculo Exitoso.\")\n",
        "    print(f\"Su IMC es: {imc:.2f}\") # Mostrar IMC con dos decimales\n",
        "\n",
        "    # Lógica de recomendaciones (if-elif-else)\n",
        "    if imc < 18.5:\n",
        "        print(\"Categoría: Por debajo del peso\")\n",
        "    elif 18.5 <= imc < 25:\n",
        "        print(\"Categoría: Peso normal\")\n",
        "    else: # imc >= 25\n",
        "        print(\"Categoría: Por encima del peso\")\n",
        "\n",
        "# Llamar a la función para ejecutar el programa\n",
        "calcular_imc()"
      ],
      "execution_count": 6,
      "outputs": [
        {
          "output_type": "stream",
          "name": "stdout",
          "text": [
            "--- 🧍 Cálculo de Índice de Masa Corporal (IMC) ---\n",
            "Ingrese su peso en kg: 22\n",
            "Ingrese su altura en metros: 1.65\n",
            "\n",
            "✅ Cálculo Exitoso.\n",
            "Su IMC es: 8.08\n",
            "Categoría: Por debajo del peso\n"
          ]
        }
      ]
    },
    {
      "cell_type": "code",
      "source": [
        "# EJERCICIO 5: Verificación de Beneficio Social\n",
        "\n",
        "def verificar_beneficio_social():\n",
        "    \"\"\"\n",
        "    Verifica si una persona califica para un beneficio social basado\n",
        "    en sus ingresos y cantidad de hijos.\n",
        "    \"\"\"\n",
        "    print(\"--- 💰 Verificación de Beneficio Social ---\")\n",
        "\n",
        "    # Constantes\n",
        "    INGRESO_MAXIMO = 2000\n",
        "    HIJOS_MINIMOS = 1\n",
        "\n",
        "    # 1. Solicitar Ingresos y Cantidad de Hijos\n",
        "    try:\n",
        "        # Se usa float para ingresos, ya que pueden tener decimales\n",
        "        ingresos = float(input(f\"Ingrese los ingresos mensuales (en $): \"))\n",
        "        # Se usa int para la cantidad de hijos\n",
        "        cantidad_hijos = int(input(\"Ingrese la cantidad de hijos/as: \"))\n",
        "    except ValueError:\n",
        "        print(\"\\n❌ ERROR: Por favor, ingrese valores numéricos válidos.\")\n",
        "        return # Termina la función\n",
        "\n",
        "    # 2. Lógica de Calificación (Usando el operador AND)\n",
        "    # Ambas condiciones deben ser VERDADERAS para calificar:\n",
        "    # 1. Ingresos <= $2000\n",
        "    # 2. Cantidad de hijos >= 1\n",
        "\n",
        "    if ingresos <= INGRESO_MAXIMO and cantidad_hijos >= HIJOS_MINIMOS:\n",
        "        # La condición es TRUE: Ambas reglas se cumplen\n",
        "        print(\"\\n🎉 ¡Felicidades! Usted tiene derecho al beneficio social.\")\n",
        "        print(f\"Detalles: Ingresos (${ingresos:.2f}) y Hijos ({cantidad_hijos}).\")\n",
        "    else:\n",
        "        # La condición es FALSE: Al menos una regla no se cumple\n",
        "        print(\"\\n🚫 Lo sentimos, no califica para el beneficio social en este momento.\")\n",
        "\n",
        "        # Opcional: Mostrar la razón por la que no califica para ser más informativo\n",
        "        print(\"\\nMotivos de no calificación:\")\n",
        "        if ingresos > INGRESO_MAXIMO:\n",
        "            print(f\"- Sus ingresos exceden el límite de ${INGRESO_MAXIMO:.2f}.\")\n",
        "        if cantidad_hijos < HIJOS_MINIMOS:\n",
        "            print(\"- Debe tener al menos un/a hijo/a.\")\n",
        "\n",
        "# Llamar a la función para ejecutar el programa\n",
        "verificar_beneficio_social()"
      ],
      "metadata": {
        "colab": {
          "base_uri": "https://localhost:8080/"
        },
        "id": "3iiXvdIAbLBY",
        "outputId": "90897da0-9137-4dbd-aa4d-09cd9a7ebdc8"
      },
      "execution_count": 7,
      "outputs": [
        {
          "output_type": "stream",
          "name": "stdout",
          "text": [
            "--- 💰 Verificación de Beneficio Social ---\n",
            "Ingrese los ingresos mensuales (en $): 2500\n",
            "Ingrese la cantidad de hijos/as: 1999\n",
            "\n",
            "🚫 Lo sentimos, no califica para el beneficio social en este momento.\n",
            "\n",
            "Motivos de no calificación:\n",
            "- Sus ingresos exceden el límite de $2000.00.\n"
          ]
        }
      ]
    },
    {
      "cell_type": "code",
      "source": [
        "# EJERCICIO 6: Evaluación de Desempeño y Ascenso\n",
        "\n",
        "def evaluar_empleado():\n",
        "    \"\"\"\n",
        "    Recibe la puntuación y los años trabajados y determina la elegibilidad\n",
        "    para un ascenso.\n",
        "    \"\"\"\n",
        "    print(\"--- 📈 Evaluación de Desempeño de Empleados ---\")\n",
        "\n",
        "    # 1. Solicitar la Puntuación y los Años Trabajados\n",
        "    try:\n",
        "        # Puntuación (usamos float por si hay decimales, aunque el criterio es entero)\n",
        "        puntuacion = float(input(\"Ingrese la puntuación de desempeño (0 a 10): \"))\n",
        "        # Años trabajados (usamos int)\n",
        "        anios_trabajados = int(input(\"Ingrese la cantidad de años trabajados: \"))\n",
        "    except ValueError:\n",
        "        print(\"\\n❌ ERROR: Por favor, ingrese valores numéricos válidos.\")\n",
        "        return # Termina la función\n",
        "\n",
        "    print(\"\\n--- Resultado de la Evaluación ---\")\n",
        "\n",
        "    # 2. Lógica de Evaluación Anidada\n",
        "\n",
        "    # Regla Principal: Si la puntuación es mayor o igual a 7\n",
        "    if puntuacion >= 7:\n",
        "        # Puntuación ALTA (entra en el bloque anidado)\n",
        "\n",
        "        # Sub-regla 1: Si trabajó más de 5 años\n",
        "        if anios_trabajados > 5:\n",
        "            print(\"🌟 ¡Elegible para ascenso! Su excelente desempeño y experiencia lo demuestran.\")\n",
        "        # Sub-regla 2: Si trabajó 5 años o menos (pero el desempeño sigue siendo bueno)\n",
        "        else:\n",
        "            print(\"👍 Buen desempeño, sigue así. ¡Con más experiencia, el ascenso llegará pronto!\")\n",
        "\n",
        "    # Regla Alternativa: Si la puntuación es menor a 7\n",
        "    else:\n",
        "        # Puntuación BAJA\n",
        "        print(\"⚠️ Necesita mejorar. Su puntuación de desempeño está por debajo del umbral de 7.\")\n",
        "\n",
        "# Llamar a la función para ejecutar el programa\n",
        "evaluar_empleado()"
      ],
      "metadata": {
        "colab": {
          "base_uri": "https://localhost:8080/"
        },
        "id": "O89FAahbbjqh",
        "outputId": "3a0d00ad-7eaf-409b-f3ed-d659f1cbbadf"
      },
      "execution_count": 8,
      "outputs": [
        {
          "output_type": "stream",
          "name": "stdout",
          "text": [
            "--- 📈 Evaluación de Desempeño de Empleados ---\n",
            "Ingrese la puntuación de desempeño (0 a 10): 5\n",
            "Ingrese la cantidad de años trabajados: 8\n",
            "\n",
            "--- Resultado de la Evaluación ---\n",
            "⚠️ Necesita mejorar. Su puntuación de desempeño está por debajo del umbral de 7.\n"
          ]
        }
      ]
    },
    {
      "cell_type": "code",
      "source": [
        "# EJERCICIO 7: Juego de Evaluación de Divisibilidad (¡Número Mágico!)\n",
        "\n",
        "def evaluar_numero_magico():\n",
        "    \"\"\"\n",
        "    Solicita un número y lo clasifica según su divisibilidad por 3 y 5.\n",
        "    \"\"\"\n",
        "    print(\"--- ✨ Juego de Números Mágicos ---\")\n",
        "\n",
        "    # 1. Solicitar el número\n",
        "    try:\n",
        "        numero = int(input(\"Ingrese un número entero: \"))\n",
        "    except ValueError:\n",
        "        print(\"\\n❌ ERROR: Por favor, ingrese solo números enteros válidos.\")\n",
        "        return # Termina la función\n",
        "\n",
        "    print(f\"\\nEvaluando el número: {numero}\")\n",
        "    print(\"--- Resultado ---\")\n",
        "\n",
        "    # 2. Lógica de Evaluación (Usando el operador módulo %)\n",
        "    # La clave es verificar primero la condición más estricta (ambos)\n",
        "\n",
        "    # Condición 1: Divisible por 3 Y 5 (usando el operador AND)\n",
        "    # Un número es divisible si el residuo (%) es 0.\n",
        "    if numero % 3 == 0 and numero % 5 == 0:\n",
        "        print(\"🎉 ¡Número mágico!\")\n",
        "\n",
        "    # Condición 2: Solo divisible por 3\n",
        "    elif numero % 3 == 0:\n",
        "        print(\"Divisible por 3\")\n",
        "\n",
        "    # Condición 3: Solo divisible por 5\n",
        "    elif numero % 5 == 0:\n",
        "        print(\"Divisible por 5\")\n",
        "\n",
        "    # Condición 4: No es divisible por 3 ni por 5\n",
        "    else:\n",
        "        print(\"No es un número mágico\")\n",
        "\n",
        "# Llamar a la función para ejecutar el programa\n",
        "evaluar_numero_magico()"
      ],
      "metadata": {
        "colab": {
          "base_uri": "https://localhost:8080/"
        },
        "id": "eGuc7Fv1bv0y",
        "outputId": "1002d754-8c6b-4baf-e692-7676a9d87a64"
      },
      "execution_count": 9,
      "outputs": [
        {
          "output_type": "stream",
          "name": "stdout",
          "text": [
            "--- ✨ Juego de Números Mágicos ---\n",
            "Ingrese un número entero: 4\n",
            "\n",
            "Evaluando el número: 4\n",
            "--- Resultado ---\n",
            "No es un número mágico\n"
          ]
        }
      ]
    },
    {
      "cell_type": "code",
      "source": [
        "# EJERCICIO 8: Evaluación de Beca Escolar\n",
        "\n",
        "def evaluar_beca_escolar():\n",
        "    \"\"\"\n",
        "    Evalúa si un estudiante es elegible para beca completa, media beca o\n",
        "    ninguna, basándose en ingresos, promedio y asistencia.\n",
        "    \"\"\"\n",
        "    print(\"--- 🎓 Sistema de Evaluación de Becas ---\")\n",
        "\n",
        "    # 1. Solicitar los datos del estudiante\n",
        "    try:\n",
        "        ingreso = float(input(\"Ingrese el ingreso familiar mensual ($): \"))\n",
        "        promedio = float(input(\"Ingrese el promedio académico (0.0 a 10.0): \"))\n",
        "        asistencia = float(input(\"Ingrese el porcentaje de asistencia (0 a 100): \"))\n",
        "    except ValueError:\n",
        "        print(\"\\n❌ ERROR: Por favor, ingrese valores numéricos válidos.\")\n",
        "        return # Termina la función\n",
        "\n",
        "    print(\"\\n--- Resultado de la Evaluación ---\")\n",
        "\n",
        "    # 2. Lógica de Evaluación con if-elif-else y el operador AND\n",
        "\n",
        "    # Condición 1: Beca Completa (la más estricta)\n",
        "    # Ingreso < 1500 Y promedio > 8.0 Y asistencia >= 90\n",
        "    if ingreso < 1500 and promedio > 8.0 and asistencia >= 90:\n",
        "        print(\"🥇 ¡Felicidades! Es elegible para la BECA COMPLETA.\")\n",
        "\n",
        "    # Condición 2: Media Beca (se evalúa SÓLO si no cumplió la Beca Completa)\n",
        "    # Ingreso < 2500 Y promedio > 7.0 Y asistencia >= 85\n",
        "    elif ingreso < 2500 and promedio > 7.0 and asistencia >= 85:\n",
        "        print(\"🥈 Es elegible para MEDIA BECA.\")\n",
        "\n",
        "    # Condición 3: No Elegible (si no cumplió ninguna de las dos anteriores)\n",
        "    else:\n",
        "        print(\"🚫 No elegible para beca en este momento.\")\n",
        "\n",
        "# Llamar a la función para ejecutar el programa\n",
        "evaluar_beca_escolar()"
      ],
      "metadata": {
        "colab": {
          "base_uri": "https://localhost:8080/"
        },
        "id": "kCO4j32Xb_WR",
        "outputId": "1dbd1ee4-bdfe-4e9b-d9e7-ffc9f28ba0d6"
      },
      "execution_count": 10,
      "outputs": [
        {
          "output_type": "stream",
          "name": "stdout",
          "text": [
            "--- 🎓 Sistema de Evaluación de Becas ---\n",
            "Ingrese el ingreso familiar mensual ($): 1200\n",
            "Ingrese el promedio académico (0.0 a 10.0): 1150\n",
            "Ingrese el porcentaje de asistencia (0 a 100): 1510\n",
            "\n",
            "--- Resultado de la Evaluación ---\n",
            "🥇 ¡Felicidades! Es elegible para la BECA COMPLETA.\n"
          ]
        }
      ]
    },
    {
      "cell_type": "code",
      "source": [
        "# EJERCICIO 9: Sistema de Tarifas de Transporte (Anidamiento Complejo)\n",
        "\n",
        "def calcular_tarifa_transporte():\n",
        "    \"\"\"\n",
        "    Calcula la tarifa a pagar basada en la edad del pasajero y la distancia recorrida.\n",
        "    \"\"\"\n",
        "    print(\"--- 🚌 Calculadora de Tarifas de Transporte ---\")\n",
        "\n",
        "    # 1. Solicitar Edad y Distancia\n",
        "    try:\n",
        "        edad = int(input(\"Ingrese la edad del pasajero (años): \"))\n",
        "        distancia = float(input(\"Ingrese la distancia recorrida (km): \"))\n",
        "    except ValueError:\n",
        "        print(\"\\n❌ ERROR: Por favor, ingrese valores numéricos válidos.\")\n",
        "        return # Termina la función\n",
        "\n",
        "    # Inicializamos la tarifa\n",
        "    tarifa = 0.0\n",
        "\n",
        "    # 2. Lógica de Cobro Basada en Edad (Estructura if-elif-else)\n",
        "\n",
        "    print(\"\\n--- Resultado de la Tarifa ---\")\n",
        "\n",
        "    # Condición 1: Menores de 6 años (Gratis)\n",
        "    if edad < 6:\n",
        "        tarifa = 0.0\n",
        "        print(f\"🥳 ¡Viaje gratis! (Menores de 6 años)\")\n",
        "\n",
        "    # Condición 2: De 6 a 18 años\n",
        "    elif 6 <= edad <= 18:\n",
        "        # Estructura ANIDADA: Evaluar la distancia para este grupo de edad\n",
        "        print(f\"✅ Pasajero de {edad} años (Tarifa reducida).\")\n",
        "\n",
        "        if distancia <= 20:\n",
        "            tarifa = 1.50\n",
        "            print(f\"Distancia: {distancia} km. Tarifa: ${tarifa:.2f}\")\n",
        "        else: # distancia > 20 km\n",
        "            tarifa = 2.50\n",
        "            print(f\"Distancia: {distancia} km. Tarifa: ${tarifa:.2f}\")\n",
        "\n",
        "    # Condición 3: Mayores de 18 años (El resto de los casos)\n",
        "    else: # edad > 18\n",
        "        # Estructura ANIDADA: Evaluar la distancia para este grupo de edad\n",
        "        print(f\"✅ Pasajero de {edad} años (Tarifa normal).\")\n",
        "\n",
        "        if distancia <= 20:\n",
        "            tarifa = 2.50\n",
        "            print(f\"Distancia: {distancia} km. Tarifa: ${tarifa:.2f}\")\n",
        "        else: # distancia > 20 km\n",
        "            tarifa = 4.00\n",
        "            print(f\"Distancia: {distancia} km. Tarifa: ${tarifa:.2f}\")\n",
        "\n",
        "    # 3. Mostrar el resultado final\n",
        "    print(f\"\\n💵 TOTAL A PAGAR: ${tarifa:.2f}\")\n",
        "\n",
        "# Llamar a la función para ejecutar el programa\n",
        "calcular_tarifa_transporte()8\n"
      ],
      "metadata": {
        "colab": {
          "base_uri": "https://localhost:8080/"
        },
        "id": "0gfoKEpFcVAx",
        "outputId": "7606b18c-182f-4a91-c9e5-c855cc083761"
      },
      "execution_count": 11,
      "outputs": [
        {
          "output_type": "stream",
          "name": "stdout",
          "text": [
            "--- 🚌 Calculadora de Tarifas de Transporte ---\n",
            "Ingrese la edad del pasajero (años): 4\n",
            "Ingrese la distancia recorrida (km): 5\n",
            "\n",
            "--- Resultado de la Tarifa ---\n",
            "🥳 ¡Viaje gratis! (Menores de 6 años)\n",
            "\n",
            "💵 TOTAL A PAGAR: $0.00\n"
          ]
        }
      ]
    },
    {
      "cell_type": "code",
      "source": [
        "# EJERCICIO 10: Clasificación de Desempeño Trimestral\n",
        "\n",
        "def evaluar_trimestre():\n",
        "    \"\"\"\n",
        "    Clasifica el desempeño trimestral basándose en el beneficio y los nuevos clientes.\n",
        "    \"\"\"\n",
        "    print(\"--- 📊 Evaluación de Desempeño Trimestral ---\")\n",
        "\n",
        "    # 1. Solicitar los datos\n",
        "    try:\n",
        "        ingresos = float(input(\"Ingrese los ingresos totales del trimestre ($): \"))\n",
        "        gastos = float(input(\"Ingrese los gastos totales del trimestre ($): \"))\n",
        "        nuevos_clientes = int(input(\"Ingrese el número de nuevos clientes: \"))\n",
        "    except ValueError:\n",
        "        print(\"\\n❌ ERROR: Por favor, ingrese valores numéricos válidos.\")\n",
        "        return # Termina la función\n",
        "\n",
        "    # 2. Calcular el beneficio\n",
        "    beneficio = ingresos - gastos\n",
        "\n",
        "    print(f\"\\n--- Resultado del Trimestre ---\")\n",
        "    print(f\"Beneficio (Ingresos - Gastos): ${beneficio:,.2f}\")\n",
        "\n",
        "    # 3. Lógica de Clasificación (Usando if-elif-else con orden de prioridad)\n",
        "\n",
        "    # Condición 1: Trimestre Excelente (la más estricta, va primero)\n",
        "    # Beneficio > $10,000 Y nuevos clientes > 50\n",
        "    if beneficio > 10000 and nuevos_clientes > 50:\n",
        "        print(\"🎉 ¡Trimestre Excelente! Liderazgo en el mercado y gran crecimiento.\")\n",
        "\n",
        "    # Condición 2: Trimestre Bueno (se evalúa si no fue excelente)\n",
        "    # Beneficio > $5,000 Y nuevos clientes >= 20\n",
        "    elif beneficio > 5000 and nuevos_clientes >= 20:\n",
        "        print(\"👍 Trimestre Bueno. Solidez financiera y base de clientes en expansión.\")\n",
        "\n",
        "    # Condición 3: Trimestre Regular (se evalúa si el beneficio fue positivo, pero no cumplió las anteriores)\n",
        "    # Beneficio > 0\n",
        "    elif beneficio > 0:\n",
        "        print(\"✅ Trimestre Regular. Hubo ganancias, pero se recomienda revisar el crecimiento de clientes.\")\n",
        "\n",
        "    # Condición 4: Trimestre Deficitario (el caso restante)\n",
        "    # Beneficio <= 0\n",
        "    else:\n",
        "        print(\"🔴 Trimestre Deficitario. Los gastos excedieron o igualaron los ingresos.\")\n",
        "\n",
        "# Llamar a la función para ejecutar el programa\n",
        "evaluar_trimestre()"
      ],
      "metadata": {
        "colab": {
          "base_uri": "https://localhost:8080/"
        },
        "id": "WQHmMpe9csvw",
        "outputId": "1bfdc97d-3ec3-4686-b41d-43454a8337c8"
      },
      "execution_count": 14,
      "outputs": [
        {
          "output_type": "stream",
          "name": "stdout",
          "text": [
            "--- 📊 Evaluación de Desempeño Trimestral ---\n",
            "Ingrese los ingresos totales del trimestre ($): 10500\n",
            "Ingrese los gastos totales del trimestre ($): 9800\n",
            "Ingrese el número de nuevos clientes: 200000\n",
            "\n",
            "--- Resultado del Trimestre ---\n",
            "Beneficio (Ingresos - Gastos): $700.00\n",
            "✅ Trimestre Regular. Hubo ganancias, pero se recomienda revisar el crecimiento de clientes.\n"
          ]
        }
      ]
    }
  ]
}